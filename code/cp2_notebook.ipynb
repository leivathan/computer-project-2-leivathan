{
 "cells": [
  {
   "cell_type": "code",
   "execution_count": 35,
   "metadata": {},
   "outputs": [
    {
     "ename": "NameError",
     "evalue": "name 'nparray' is not defined",
     "output_type": "error",
     "traceback": [
      "\u001b[1;31m---------------------------------------------------------------------------\u001b[0m",
      "\u001b[1;31mNameError\u001b[0m                                 Traceback (most recent call last)",
      "\u001b[1;32m<ipython-input-35-b8e68ffdd62e>\u001b[0m in \u001b[0;36m<module>\u001b[1;34m()\u001b[0m\n\u001b[0;32m     60\u001b[0m \u001b[0meight_eigenval\u001b[0m\u001b[1;33m,\u001b[0m\u001b[0meight_eigenvec\u001b[0m \u001b[1;33m=\u001b[0m \u001b[0mlag\u001b[0m\u001b[1;33m.\u001b[0m\u001b[0meig\u001b[0m\u001b[1;33m(\u001b[0m\u001b[0meight_B\u001b[0m\u001b[1;33m)\u001b[0m\u001b[1;33m\u001b[0m\u001b[0m\n\u001b[0;32m     61\u001b[0m \u001b[1;33m\u001b[0m\u001b[0m\n\u001b[1;32m---> 62\u001b[1;33m \u001b[0my\u001b[0m \u001b[1;33m=\u001b[0m \u001b[0mnparray\u001b[0m\u001b[1;33m(\u001b[0m\u001b[0meight_B\u001b[0m\u001b[1;33m)\u001b[0m\u001b[1;33m.\u001b[0m\u001b[0mshape\u001b[0m\u001b[1;33m[\u001b[0m\u001b[1;36m1\u001b[0m\u001b[1;33m]\u001b[0m\u001b[1;33m\u001b[0m\u001b[0m\n\u001b[0m\u001b[0;32m     63\u001b[0m \u001b[0mx\u001b[0m \u001b[1;33m=\u001b[0m \u001b[0mnp\u001b[0m\u001b[1;33m.\u001b[0m\u001b[0mones\u001b[0m\u001b[1;33m(\u001b[0m\u001b[0my\u001b[0m\u001b[1;33m,\u001b[0m\u001b[1;36m1\u001b[0m\u001b[1;33m)\u001b[0m\u001b[1;33m\u001b[0m\u001b[0m\n\u001b[0;32m     64\u001b[0m \u001b[1;33m\u001b[0m\u001b[0m\n",
      "\u001b[1;31mNameError\u001b[0m: name 'nparray' is not defined"
     ]
    }
   ],
   "source": [
    "import math\n",
    "import csv\n",
    "import scipy as sp\n",
    "import numpy as np\n",
    "import matplotlib.pyplot as plt\n",
    "import numpy.linalg as lag\n",
    "\n",
    "csv_arr = []\n",
    "\n",
    "#The csv reader\n",
    "with open('cp2_input.csv') as csv_in:\n",
    "    filereader = csv.reader(csv_in)\n",
    "    for row in filereader:\n",
    "        csv_arr.append(row)\n",
    "\n",
    "two_sig_a = [float(i) for i in csv_arr[0]]\n",
    "#The fission matrix rows were precalculated\n",
    "two_fiss_row1 = [float(i) for i in csv_arr[1]]\n",
    "two_fiss_row2 = [float(i) for i in csv_arr[2]]\n",
    "two_in_row1 = [float(i) for i in csv_arr[3]]\n",
    "two_in_row2 = [float(i) for i in csv_arr[4]]\n",
    "two_out = [float(i) for i in csv_arr[5]]\n",
    "eight_sig_a = [float(i) for i in csv_arr[6]]\n",
    "eight_fiss_row1 = [float(i) for i in csv_arr[7]]\n",
    "eight_fiss_row2 = [float(i) for i in csv_arr[8]]\n",
    "eight_fiss_row3 = [float(i) for i in csv_arr[9]]\n",
    "eight_in_row1 = [float(i) for i in csv_arr[10]]\n",
    "eight_in_row2 = [float(i) for i in csv_arr[11]]\n",
    "eight_in_row3 = [float(i) for i in csv_arr[12]]\n",
    "eight_in_row4 = [float(i) for i in csv_arr[13]]\n",
    "eight_in_row5 = [float(i) for i in csv_arr[14]]\n",
    "eight_in_row6 = [float(i) for i in csv_arr[15]]\n",
    "eight_in_row7 = [float(i) for i in csv_arr[16]]\n",
    "eight_in_row8 = [float(i) for i in csv_arr[17]]\n",
    "eight_out = [float(i) for i in csv_arr[18]]\n",
    "#Xi values at group 4 onward were 0, so those values are zero too\n",
    "zero = list(np.zeros(8))\n",
    "\n",
    "#This takes outscattering values and makes an ordered array of them\n",
    "def outscattering(array):\n",
    "    outscatter = np.zeros((len(array),len(array)))\n",
    "    for i in range(len(array)):\n",
    "        outscatter[i][i] = array[i]\n",
    "    return outscatter\n",
    "\n",
    "#Defining the matrices\n",
    "two_outscatter = outscattering(two_out)\n",
    "two_absorption = outscattering(two_sig_a)\n",
    "two_inscatter = [two_in_row1,two_in_row2]\n",
    "two_fission = [two_fiss_row1,two_fiss_row2]\n",
    "eight_absorption = outscattering(eight_sig_a)\n",
    "eight_fission = [eight_fiss_row1,eight_fiss_row2,eight_fiss_row3,zero,zero,zero,zero,zero]\n",
    "eight_inscatter = [eight_in_row1,eight_in_row2,eight_in_row3,eight_in_row4,eight_in_row5,eight_in_row6,eight_in_row7,eight_in_row8]\n",
    "eight_outscatter = outscattering(eight_out)\n",
    "two_migration = np.subtract(np.add(two_absorption,two_outscatter),two_inscatter)\n",
    "two_B = np.dot(lag.inv(two_migration),two_fission)\n",
    "two_eigenval,two_eigenvec = lag.eig(two_B)\n",
    "eight_migration = np.subtract(np.add(eight_absorption,eight_outscatter),eight_inscatter)\n",
    "eight_B = np.dot(lag.inv(eight_migration),eight_fission)\n",
    "eight_eigenval,eight_eigenvec = lag.eig(eight_B)\n",
    "\n",
    "y = eight_B).shape[1]\n",
    "x = np.ones(y,1)\n",
    "\n",
    "print(x)\n",
    "#print(eight_fission)\n",
    "#print(two_migration)\n",
    "#print(two_B)\n",
    "#print(eight_migration)\n",
    "#print(eight_B)"
   ]
  },
  {
   "cell_type": "code",
   "execution_count": null,
   "metadata": {},
   "outputs": [],
   "source": [
    "#Power iteration\n",
    "def power_iteration(T,num_sim):\n",
    "    phi_k = T.shape[1]"
   ]
  }
 ],
 "metadata": {
  "kernelspec": {
   "display_name": "Python 3",
   "language": "python",
   "name": "python3"
  }
 },
 "nbformat": 4,
 "nbformat_minor": 2
}
